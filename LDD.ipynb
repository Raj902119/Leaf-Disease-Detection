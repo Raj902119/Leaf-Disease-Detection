{
  "nbformat": 4,
  "nbformat_minor": 0,
  "metadata": {
    "colab": {
      "provenance": [],
      "collapsed_sections": [],
      "toc_visible": true
    },
    "kernelspec": {
      "name": "python3",
      "display_name": "Python 3"
    },
    "language_info": {
      "name": "python"
    },
    "accelerator": "GPU",
    "gpuClass": "standard"
  },
  "cells": [
    {
      "cell_type": "code",
      "execution_count": null,
      "metadata": {
        "id": "KvASmqhkcslg"
      },
      "outputs": [],
      "source": [
        "from google.colab import drive"
      ]
    },
    {
      "cell_type": "code",
      "source": [
        "drive.mount('/content/drive')"
      ],
      "metadata": {
        "colab": {
          "base_uri": "https://localhost:8080/"
        },
        "id": "F-MwqaUBc6YL",
        "outputId": "61831f90-e30b-46d4-f942-791f0d8036ab"
      },
      "execution_count": null,
      "outputs": [
        {
          "output_type": "stream",
          "name": "stdout",
          "text": [
            "Mounted at /content/drive\n"
          ]
        }
      ]
    },
    {
      "cell_type": "code",
      "source": [
        "#import libraries\n",
        "\n",
        "import numpy as np\n",
        "import pandas as pd\n",
        "import matplotlib.pyplot as plt\n",
        "import os\n",
        "\n",
        "#building image data generator\n",
        "\n",
        "import keras\n",
        "import tensorflow\n",
        "\n",
        "\n",
        "from keras.preprocessing.image import ImageDataGenerator\n",
        "from tensorflow.keras.utils import load_img\n",
        "from tensorflow.keras.utils import img_to_array\n",
        "from keras.applications.vgg19 import VGG19, preprocess_input, decode_predictions\n",
        "\n"
      ],
      "metadata": {
        "id": "aTEDW9UmeWQ6"
      },
      "execution_count": null,
      "outputs": []
    },
    {
      "cell_type": "code",
      "source": [
        "#load our img to data generator\n",
        "train_datagen = ImageDataGenerator(zoom_range=0.5, shear_range=0.3, horizontal_flip=True, preprocessing_function= preprocess_input)\n",
        "val_datagen = ImageDataGenerator(preprocessing_function= preprocess_input)"
      ],
      "metadata": {
        "id": "SRy2v_bBt68A"
      },
      "execution_count": null,
      "outputs": []
    },
    {
      "cell_type": "code",
      "source": [
        "#pass the path\n",
        "train = train_datagen.flow_from_directory(directory= \"/content/drive/MyDrive/Plant leaf disease detection/Image Data base\",\n",
        "                                          target_size= (256,256),\n",
        "                                          batch_size=32)\n",
        "val = val_datagen.flow_from_directory(directory= \"/content/drive/MyDrive/Plant leaf disease detection/val\",\n",
        "                                          target_size= (256,256),\n",
        "                                          batch_size=32)"
      ],
      "metadata": {
        "colab": {
          "base_uri": "https://localhost:8080/"
        },
        "id": "8NHJ0sxBugaj",
        "outputId": "eba19d6e-2fd7-4483-d3f2-0aca3e65f4c4"
      },
      "execution_count": null,
      "outputs": [
        {
          "output_type": "stream",
          "name": "stdout",
          "text": [
            "Found 20999 images belonging to 26 classes.\n",
            "Found 3686 images belonging to 26 classes.\n"
          ]
        }
      ]
    },
    {
      "cell_type": "code",
      "source": [
        "t_img , label = train.next()"
      ],
      "metadata": {
        "id": "nhfhF1xzlI7k"
      },
      "execution_count": null,
      "outputs": []
    },
    {
      "cell_type": "code",
      "source": [
        "def plotImage(img_arr, label):\n",
        "\n",
        "     for im , l in zip(img_arr , label):\n",
        "       plt.figure(figsize=(5,5))\n",
        "       plt.imshow(im)\n",
        "       plt.show()"
      ],
      "metadata": {
        "id": "GqzK2X5plUbS"
      },
      "execution_count": null,
      "outputs": []
    },
    {
      "cell_type": "code",
      "source": [
        "plotImage(t_img[:3], label[:3])"
      ],
      "metadata": {
        "id": "NLQIyyYBltbk"
      },
      "execution_count": null,
      "outputs": []
    },
    {
      "cell_type": "markdown",
      "source": [
        "Building our model"
      ],
      "metadata": {
        "id": "UHIDSDaimPdI"
      }
    },
    {
      "cell_type": "code",
      "source": [
        "from keras.layers import Dense, Flatten\n",
        "from keras.models import Model\n",
        "from keras.applications.vgg19 import VGG19\n",
        "import keras\n",
        "import sys"
      ],
      "metadata": {
        "id": "jPCyeNdlmT9G"
      },
      "execution_count": null,
      "outputs": []
    },
    {
      "cell_type": "code",
      "source": [
        "base_model = VGG19(input_shape=(256,256,3), include_top=False)"
      ],
      "metadata": {
        "id": "R3NIGAkpmu52"
      },
      "execution_count": null,
      "outputs": []
    },
    {
      "cell_type": "code",
      "source": [
        "for layer in base_model.layers:\n",
        "  layer.trainable = False"
      ],
      "metadata": {
        "id": "HHmcgMEhm8tl"
      },
      "execution_count": null,
      "outputs": []
    },
    {
      "cell_type": "code",
      "source": [
        "base_model.summary()"
      ],
      "metadata": {
        "id": "lnbr1jDzndtK"
      },
      "execution_count": null,
      "outputs": []
    },
    {
      "cell_type": "code",
      "source": [
        "x = Flatten()(base_model.output)\n",
        "\n",
        "x = Dense(units = 38, activation='softmax')(x)\n",
        "\n",
        "#createing our model\n",
        "model = Model(base_model.input, x)"
      ],
      "metadata": {
        "id": "mprpcguCntHb"
      },
      "execution_count": null,
      "outputs": []
    },
    {
      "cell_type": "code",
      "source": [
        "model.summary()"
      ],
      "metadata": {
        "id": "SFmWvwcyoeUl"
      },
      "execution_count": null,
      "outputs": []
    },
    {
      "cell_type": "code",
      "source": [
        "model.compile(optimizer= 'adam' , loss= keras.losses.categorical_crossentropy, metrics=['accuracy'])"
      ],
      "metadata": {
        "id": "Ef56FPFxqy_H"
      },
      "execution_count": null,
      "outputs": []
    },
    {
      "cell_type": "markdown",
      "source": [
        "Early Stopping and Model Check point"
      ],
      "metadata": {
        "id": "XCe6l5N_on6P"
      }
    },
    {
      "cell_type": "code",
      "source": [
        "from keras.callbacks import ModelCheckpoint, EarlyStopping\n",
        "\n",
        "#early stopping\n",
        "es = EarlyStopping(monitor= 'val_accuracy', min_delta= 0.01, patience= 3, verbose=1)\n",
        "\n",
        "#model check point\n",
        "mc = ModelCheckpoint(filepath=\"best_model.h5\",\n",
        "                     monitor= 'val_accuracy',\n",
        "                     min_delta= 0.01,\n",
        "                     patience= 3,\n",
        "                     verbose=1,\n",
        "                     save_best_only= True)\n",
        "\n",
        "cb = [es, mc]"
      ],
      "metadata": {
        "id": "lVsRO0lKosQ8"
      },
      "execution_count": null,
      "outputs": []
    },
    {
      "cell_type": "code",
      "source": [
        "his = model.fit_generator(train,\n",
        "                          steps_per_epoch= 13,\n",
        "                          epochs= 20,\n",
        "                          verbose=1,\n",
        "                          callbacks= cb,\n",
        "                          validation_data= val,\n",
        "                          validation_steps=  13)"
      ],
      "metadata": {
        "id": "49yTSEd-qBk8"
      },
      "execution_count": null,
      "outputs": []
    },
    {
      "cell_type": "code",
      "source": [
        "h= his.history\n",
        "h.keys()"
      ],
      "metadata": {
        "id": "vsYRNchfvWsG"
      },
      "execution_count": null,
      "outputs": []
    },
    {
      "cell_type": "code",
      "source": [
        "plt.plot(h['accuracy'])\n",
        "plt.plot(h['val_accuracy'], c=\"red\")\n",
        "plt.title(\"acc vs v-acc\")\n",
        "plt.show()"
      ],
      "metadata": {
        "id": "pD5phUFuvyzL"
      },
      "execution_count": null,
      "outputs": []
    },
    {
      "cell_type": "code",
      "source": [
        "plt.plot(h['loss'])\n",
        "plt.plot(h['val_loss'], c=\"red\")\n",
        "plt.title(\"loss vs v-loss\")\n",
        "plt.show()"
      ],
      "metadata": {
        "id": "vvSq-h5vwJJB"
      },
      "execution_count": null,
      "outputs": []
    },
    {
      "cell_type": "code",
      "source": [
        "#load best model\n",
        "\n",
        "from keras.models import load_model\n",
        "\n",
        "model = load_model(\"/content/best_model.h5\")"
      ],
      "metadata": {
        "id": "hqtdtPsowWsn"
      },
      "execution_count": null,
      "outputs": []
    },
    {
      "cell_type": "code",
      "source": [
        "acc= model.evaluate_generator(val)[1]\n",
        "\n",
        "print(f\" the accuracy of your model is = {acc*100} %\")"
      ],
      "metadata": {
        "id": "Y82AkFcQz3e6"
      },
      "execution_count": null,
      "outputs": []
    },
    {
      "cell_type": "code",
      "source": [
        "ref = dict(zip(list(train.class_indices.values()) , list(train.class_indices.keys())))"
      ],
      "metadata": {
        "id": "G9hNNHt11V0n"
      },
      "execution_count": null,
      "outputs": []
    },
    {
      "cell_type": "code",
      "source": [
        "#will give the test img and will see if they are able to predict the correct output\n",
        "\n",
        "def prediction(path):\n",
        "     img = load_img(path, target_size= (256,256))\n",
        "\n",
        "     i = img_to_array(img)\n",
        "\n",
        "     im = preprocess_input(i)\n",
        "\n",
        "     im = np.expand_dims(im, axis= 0)\n",
        "\n",
        "     print(img.shape)\n",
        "\n",
        "     pred = np.argmax(model.predict(img))\n",
        "\n",
        "     print(f\" the img belongs to {ref[pred]} \")"
      ],
      "metadata": {
        "id": "QBPPFLz20NI2"
      },
      "execution_count": null,
      "outputs": []
    },
    {
      "cell_type": "code",
      "source": [
        "path = \"/content/drive/MyDrive/Plant leaf disease detection/test/Anthracnose_in_tea1.jpg\"\n",
        "\n",
        "prediction(path)"
      ],
      "metadata": {
        "id": "d-V8dvx401f3"
      },
      "execution_count": null,
      "outputs": []
    }
  ]
}